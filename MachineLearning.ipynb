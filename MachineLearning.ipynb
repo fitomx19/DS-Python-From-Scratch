{
 "cells": [
  {
   "cell_type": "code",
   "execution_count": 176,
   "metadata": {},
   "outputs": [],
   "source": [
    "from collections import Counter\n",
    "import math, random"
   ]
  },
  {
   "cell_type": "markdown",
   "metadata": {},
   "source": [
    "Utilizaremos un datframe recabado de una pulsera fitbit para ver como esta funcionando el ciclo de sueño del usuario que los registro"
   ]
  },
  {
   "cell_type": "code",
   "execution_count": 177,
   "metadata": {},
   "outputs": [
    {
     "name": "stdout",
     "output_type": "stream",
     "text": [
      "             Id    SleepDay      Time  TotalSleepRecords  TotalMinutesAsleep  \\\n",
      "0    1503960366  12/04/2016  00:00:00                  1                 327   \n",
      "1    1503960366  13/04/2016  12:00:00                  2                 384   \n",
      "2    1503960366  15/04/2016  12:00:00                  1                 412   \n",
      "3    1503960366  16/04/2016  12:00:00                  2                 340   \n",
      "4    1503960366  17/04/2016  12:00:00                  1                 700   \n",
      "..          ...         ...       ...                ...                 ...   \n",
      "408  8792009665  30/04/2016  12:00:00                  1                 343   \n",
      "409  8792009665  01/05/2016  00:00:00                  1                 503   \n",
      "410  8792009665  02/05/2016  00:00:00                  1                 415   \n",
      "411  8792009665  03/05/2016  00:00:00                  1                 516   \n",
      "412  8792009665  04/05/2016  00:00:00                  1                 439   \n",
      "\n",
      "     TotalTimeInBed  \n",
      "0               346  \n",
      "1               407  \n",
      "2               442  \n",
      "3               367  \n",
      "4               712  \n",
      "..              ...  \n",
      "408             360  \n",
      "409             527  \n",
      "410             423  \n",
      "411             545  \n",
      "412             463  \n",
      "\n",
      "[413 rows x 6 columns]\n"
     ]
    }
   ],
   "source": [
    "import pandas as pd\n",
    "import numpy as np\n",
    "import matplotlib.pyplot as plt\n",
    "df = pd.read_csv ('./recursos/sleepDay_merged.csv')\n",
    "print(df)\n"
   ]
  },
  {
   "cell_type": "code",
   "execution_count": 178,
   "metadata": {},
   "outputs": [
    {
     "name": "stdout",
     "output_type": "stream",
     "text": [
      "413\n"
     ]
    }
   ],
   "source": [
    "#Obtenemos el largo de el dataframe\n",
    "print(len(df))"
   ]
  },
  {
   "cell_type": "code",
   "execution_count": 179,
   "metadata": {},
   "outputs": [
    {
     "name": "stdout",
     "output_type": "stream",
     "text": [
      "0.9520562899210367\n"
     ]
    }
   ],
   "source": [
    "#Vemos que fraccion vamos a utilizar del df para entrenamiento\n",
    "a = random.uniform(0.5, 1)\n",
    "print(a)"
   ]
  },
  {
   "cell_type": "code",
   "execution_count": 180,
   "metadata": {},
   "outputs": [],
   "source": [
    "def split_data(data, prob):\n",
    "    prob = (int(prob*10))/10\n",
    "    #print(prob)\n",
    "    colamayor = int(len(data)*prob)\n",
    "    colamenor = int(len(data)-len(data)*prob)\n",
    "    \n",
    "    dfs = np.array_split(data, [colamayor,colamenor+colamayor] , axis=0)\n",
    "\n",
    "\n",
    "    return dfs"
   ]
  },
  {
   "cell_type": "code",
   "execution_count": 181,
   "metadata": {},
   "outputs": [
    {
     "name": "stdout",
     "output_type": "stream",
     "text": [
      "[             Id    SleepDay      Time  TotalSleepRecords  TotalMinutesAsleep  \\\n",
      "0    1503960366  12/04/2016  00:00:00                  1                 327   \n",
      "1    1503960366  13/04/2016  12:00:00                  2                 384   \n",
      "2    1503960366  15/04/2016  12:00:00                  1                 412   \n",
      "3    1503960366  16/04/2016  12:00:00                  2                 340   \n",
      "4    1503960366  17/04/2016  12:00:00                  1                 700   \n",
      "..          ...         ...       ...                ...                 ...   \n",
      "366  8378563200  12/04/2016  00:00:00                  1                 338   \n",
      "367  8378563200  13/04/2016  12:00:00                  2                 447   \n",
      "368  8378563200  14/04/2016  12:00:00                  1                 424   \n",
      "369  8378563200  15/04/2016  12:00:00                  1                 513   \n",
      "370  8378563200  16/04/2016  12:00:00                  2                 611   \n",
      "\n",
      "     TotalTimeInBed  \n",
      "0               346  \n",
      "1               407  \n",
      "2               442  \n",
      "3               367  \n",
      "4               712  \n",
      "..              ...  \n",
      "366             356  \n",
      "367             487  \n",
      "368             455  \n",
      "369             533  \n",
      "370             689  \n",
      "\n",
      "[371 rows x 6 columns],              Id    SleepDay      Time  TotalSleepRecords  TotalMinutesAsleep  \\\n",
      "371  8378563200  17/04/2016  12:00:00                  2                 525   \n",
      "372  8378563200  18/04/2016  12:00:00                  1                 398   \n",
      "373  8378563200  19/04/2016  12:00:00                  1                 387   \n",
      "374  8378563200  20/04/2016  12:00:00                  1                 381   \n",
      "375  8378563200  21/04/2016  12:00:00                  1                 396   \n",
      "376  8378563200  22/04/2016  12:00:00                  1                 441   \n",
      "377  8378563200  23/04/2016  12:00:00                  1                 565   \n",
      "378  8378563200  24/04/2016  12:00:00                  1                 458   \n",
      "379  8378563200  25/04/2016  12:00:00                  1                 388   \n",
      "380  8378563200  25/04/2016  12:00:00                  1                 388   \n",
      "381  8378563200  26/04/2016  12:00:00                  1                 550   \n",
      "382  8378563200  27/04/2016  12:00:00                  1                 531   \n",
      "383  8378563200  28/04/2016  12:00:00                  1                 506   \n",
      "384  8378563200  29/04/2016  12:00:00                  1                 527   \n",
      "385  8378563200  30/04/2016  12:00:00                  1                 468   \n",
      "386  8378563200  01/05/2016  00:00:00                  1                 475   \n",
      "387  8378563200  02/05/2016  00:00:00                  1                 351   \n",
      "388  8378563200  03/05/2016  00:00:00                  1                 405   \n",
      "389  8378563200  04/05/2016  00:00:00                  1                 441   \n",
      "390  8378563200  05/05/2016  00:00:00                  1                 381   \n",
      "391  8378563200  06/05/2016  00:00:00                  1                 323   \n",
      "392  8378563200  07/05/2016  00:00:00                  2                 459   \n",
      "393  8378563200  08/05/2016  00:00:00                  1                 545   \n",
      "394  8378563200  09/05/2016  00:00:00                  1                 359   \n",
      "395  8378563200  10/05/2016  00:00:00                  1                 342   \n",
      "396  8378563200  11/05/2016  00:00:00                  1                 368   \n",
      "397  8378563200  12/05/2016  00:00:00                  1                 496   \n",
      "398  8792009665  12/04/2016  00:00:00                  1                 458   \n",
      "399  8792009665  13/04/2016  12:00:00                  1                 531   \n",
      "400  8792009665  14/04/2016  12:00:00                  1                 486   \n",
      "401  8792009665  15/04/2016  12:00:00                  1                 363   \n",
      "402  8792009665  20/04/2016  12:00:00                  1                 528   \n",
      "403  8792009665  22/04/2016  12:00:00                  1                 391   \n",
      "404  8792009665  23/04/2016  12:00:00                  1                 339   \n",
      "405  8792009665  27/04/2016  12:00:00                  1                 423   \n",
      "406  8792009665  28/04/2016  12:00:00                  1                 402   \n",
      "407  8792009665  29/04/2016  12:00:00                  1                 398   \n",
      "408  8792009665  30/04/2016  12:00:00                  1                 343   \n",
      "409  8792009665  01/05/2016  00:00:00                  1                 503   \n",
      "410  8792009665  02/05/2016  00:00:00                  1                 415   \n",
      "411  8792009665  03/05/2016  00:00:00                  1                 516   \n",
      "\n",
      "     TotalTimeInBed  \n",
      "371             591  \n",
      "372             451  \n",
      "373             421  \n",
      "374             409  \n",
      "375             417  \n",
      "376             469  \n",
      "377             591  \n",
      "378             492  \n",
      "379             402  \n",
      "380             402  \n",
      "381             584  \n",
      "382             600  \n",
      "383             556  \n",
      "384             562  \n",
      "385             555  \n",
      "386             539  \n",
      "387             385  \n",
      "388             429  \n",
      "389             477  \n",
      "390             417  \n",
      "391             355  \n",
      "392             513  \n",
      "393             606  \n",
      "394             399  \n",
      "395             391  \n",
      "396             387  \n",
      "397             546  \n",
      "398             493  \n",
      "399             552  \n",
      "400             503  \n",
      "401             377  \n",
      "402             547  \n",
      "403             407  \n",
      "404             360  \n",
      "405             428  \n",
      "406             416  \n",
      "407             406  \n",
      "408             360  \n",
      "409             527  \n",
      "410             423  \n",
      "411             545  ,              Id    SleepDay      Time  TotalSleepRecords  TotalMinutesAsleep  \\\n",
      "412  8792009665  04/05/2016  00:00:00                  1                 439   \n",
      "\n",
      "     TotalTimeInBed  \n",
      "412             463  ]\n"
     ]
    }
   ],
   "source": [
    "x = split_data(df, a)\n",
    "print(x)"
   ]
  },
  {
   "cell_type": "code",
   "execution_count": null,
   "metadata": {},
   "outputs": [],
   "source": []
  },
  {
   "cell_type": "code",
   "execution_count": 182,
   "metadata": {},
   "outputs": [],
   "source": [
    "TiempoDormido = df[:100][['TotalMinutesAsleep', 'TotalTimeInBed']]"
   ]
  },
  {
   "cell_type": "code",
   "execution_count": 183,
   "metadata": {},
   "outputs": [
    {
     "data": {
      "text/plain": [
       "<AxesSubplot:xlabel='TotalMinutesAsleep', ylabel='TotalTimeInBed'>"
      ]
     },
     "execution_count": 183,
     "metadata": {},
     "output_type": "execute_result"
    },
    {
     "data": {
      "image/png": "[encoded data removed]",
      "text/plain": [
       "<Figure size 432x288 with 1 Axes>"
      ]
     },
     "metadata": {
      "needs_background": "light"
     },
     "output_type": "display_data"
    }
   ],
   "source": [
    "df.plot.scatter(x='TotalMinutesAsleep',\n",
    "                       y='TotalTimeInBed',\n",
    "                       c='DarkBlue')\n",
    "\n"
   ]
  },
  {
   "cell_type": "code",
   "execution_count": 184,
   "metadata": {},
   "outputs": [],
   "source": [
    "from sklearn.preprocessing import StandardScaler\n",
    "X_std = StandardScaler().fit_transform(TiempoDormido)"
   ]
  },
  {
   "cell_type": "code",
   "execution_count": 185,
   "metadata": {},
   "outputs": [
    {
     "name": "stdout",
     "output_type": "stream",
     "text": [
      "NumPy covariance matrix: \n",
      "[[1.01010101 0.89601751]\n",
      " [0.89601751 1.01010101]]\n"
     ]
    }
   ],
   "source": [
    "print('NumPy covariance matrix: \\n%s' %np.cov(X_std.T))"
   ]
  },
  {
   "cell_type": "code",
   "execution_count": 186,
   "metadata": {},
   "outputs": [
    {
     "name": "stdout",
     "output_type": "stream",
     "text": [
      "Eigenvectors \n",
      "[[-0.70710678 -0.70710678]\n",
      " [ 0.70710678 -0.70710678]]\n",
      "\n",
      "Eigenvalues \n",
      "[0.1140835  1.90611852]\n"
     ]
    }
   ],
   "source": [
    "cov_mat = np.cov(X_std.T)\n",
    "\n",
    "eig_vals, eig_vecs = np.linalg.eig(cov_mat)\n",
    "\n",
    "print('Eigenvectors \\n%s' %eig_vecs)\n",
    "print('\\nEigenvalues \\n%s' %eig_vals)"
   ]
  },
  {
   "cell_type": "code",
   "execution_count": 187,
   "metadata": {},
   "outputs": [
    {
     "name": "stdout",
     "output_type": "stream",
     "text": [
      "Autovalores en orden descendiente:\n",
      "1.9061185183988223\n",
      "0.11408350180319793\n"
     ]
    }
   ],
   "source": [
    "#  Hacemos una lista de parejas (autovector, autovalor) \n",
    "eig_pairs = [(np.abs(eig_vals[i]), eig_vecs[:,i]) for i in range(len(eig_vals))]\n",
    "\n",
    "# Ordenamos estas parejas den orden descendiente con la función sort\n",
    "eig_pairs.sort(key=lambda x: x[0], reverse=True)\n",
    "\n",
    "# Visualizamos la lista de autovalores en orden desdenciente\n",
    "print('Autovalores en orden descendiente:')\n",
    "for i in eig_pairs:\n",
    "    print(i[0])"
   ]
  },
  {
   "cell_type": "code",
   "execution_count": 188,
   "metadata": {},
   "outputs": [
    {
     "data": {
      "image/png": "[encoded data removed]",
      "text/plain": [
       "<Figure size 432x288 with 1 Axes>"
      ]
     },
     "metadata": {
      "needs_background": "light"
     },
     "output_type": "display_data"
    }
   ],
   "source": [
    "# A partir de los autovalores, calculamos la varianza explicada\n",
    "tot = sum(eig_vals)\n",
    "var_exp = [(i / tot)*100 for i in sorted(eig_vals, reverse=True)]\n",
    "cum_var_exp = np.cumsum(var_exp)\n",
    "\n",
    "# Representamos en un diagrama de barras la varianza explicada por cada autovalor, y la acumulada\n",
    "\n",
    "plt.figure(figsize=(6, 4))\n",
    "\n",
    "plt.bar(range(2), var_exp, alpha=0.5, align='center',\n",
    "            label='Varianza individual explicada', color='g')\n",
    "plt.step(range(2), cum_var_exp, where='mid', linestyle='--', label='Varianza explicada acumulada')\n",
    "plt.ylabel('Ratio de Varianza Explicada')\n",
    "plt.xlabel('Componentes Principales')\n",
    "plt.legend(loc='best')\n",
    "plt.tight_layout()\n",
    "plt.show()"
   ]
  },
  {
   "cell_type": "code",
   "execution_count": 189,
   "metadata": {},
   "outputs": [
    {
     "name": "stdout",
     "output_type": "stream",
     "text": [
      "Matriz W:\n",
      " [[-0.70710678 -0.70710678]\n",
      " [-0.70710678  0.70710678]]\n"
     ]
    }
   ],
   "source": [
    "#Generamos la matríz a partir de los pares autovalor-autovector\n",
    "matrix_w = np.hstack((eig_pairs[0][1].reshape(2,1),\n",
    "                      eig_pairs[1][1].reshape(2,1)))\n",
    "\n",
    "print('Matriz W:\\n', matrix_w)\n",
    "\n",
    "Y = X_std.dot(matrix_w)"
   ]
  },
  {
   "cell_type": "code",
   "execution_count": 211,
   "metadata": {},
   "outputs": [
    {
     "data": {
      "text/plain": [
       "numpy.ndarray"
      ]
     },
     "execution_count": 211,
     "metadata": {},
     "output_type": "execute_result"
    }
   ],
   "source": [
    "type(Y)"
   ]
  },
  {
   "cell_type": "code",
   "execution_count": 216,
   "metadata": {},
   "outputs": [
    {
     "data": {
      "text/plain": [
       "<matplotlib.collections.PathCollection at 0x7fc8c8f59fd0>"
      ]
     },
     "execution_count": 216,
     "metadata": {},
     "output_type": "execute_result"
    },
    {
     "data": {
      "image/png": "[encoded data removed]",
      "text/plain": [
       "<Figure size 432x288 with 1 Axes>"
      ]
     },
     "metadata": {
      "needs_background": "light"
     },
     "output_type": "display_data"
    }
   ],
   "source": [
    "plt.scatter(Y[:,0], Y[:,1])"
   ]
  },
  {
   "cell_type": "code",
   "execution_count": null,
   "metadata": {},
   "outputs": [
    {
     "data": {
      "text/html": [
       "<div>\n",
       "<style scoped>\n",
       "    .dataframe tbody tr th:only-of-type {\n",
       "        vertical-align: middle;\n",
       "    }\n",
       "\n",
       "    .dataframe tbody tr th {\n",
       "        vertical-align: top;\n",
       "    }\n",
       "\n",
       "    .dataframe thead th {\n",
       "        text-align: right;\n",
       "    }\n",
       "</style>\n",
       "<table border=\"1\" class=\"dataframe\">\n",
       "  <thead>\n",
       "    <tr style=\"text-align: right;\">\n",
       "      <th></th>\n",
       "      <th>TotalMinutesAsleep</th>\n",
       "      <th>TotalTimeInBed</th>\n",
       "    </tr>\n",
       "  </thead>\n",
       "  <tbody>\n",
       "    <tr>\n",
       "      <th>0</th>\n",
       "      <td>327</td>\n",
       "      <td>346</td>\n",
       "    </tr>\n",
       "    <tr>\n",
       "      <th>1</th>\n",
       "      <td>384</td>\n",
       "      <td>407</td>\n",
       "    </tr>\n",
       "  </tbody>\n",
       "</table>\n",
       "</div>"
      ],
      "text/plain": [
       "   TotalMinutesAsleep  TotalTimeInBed\n",
       "0                 327             346\n",
       "1                 384             407"
      ]
     },
     "execution_count": 175,
     "metadata": {},
     "output_type": "execute_result"
    }
   ],
   "source": [
    "TiempoDormido[:2:]"
   ]
  },
  {
   "cell_type": "code",
   "execution_count": null,
   "metadata": {},
   "outputs": [],
   "source": [
    "def train_test_split(x, y, test_pct):\n",
    "    data = list(zip(x, y))                        # pair corresponding values\n",
    "    train, test = split_data(data, 1 - test_pct)  # split the dataset of pairs\n",
    "    x_train, y_train = list(zip(*train))          # magical un-zip trick\n",
    "    x_test, y_test = list(zip(*test))\n",
    "    return x_train, x_test, y_train, y_test"
   ]
  },
  {
   "cell_type": "code",
   "execution_count": null,
   "metadata": {},
   "outputs": [
    {
     "name": "stdout",
     "output_type": "stream",
     "text": [
      "accuracy(70, 4930, 13930, 981070) 0.98114\n",
      "precision(70, 4930, 13930, 981070) 0.014\n",
      "recall(70, 4930, 13930, 981070) 0.005\n",
      "f1_score(70, 4930, 13930, 981070) 0.00736842105263158\n"
     ]
    }
   ],
   "source": [
    "def accuracy(tp, fp, fn, tn):\n",
    "    correct = tp + tn\n",
    "    total = tp + fp + fn + tn\n",
    "    return correct / total\n",
    "\n",
    "def precision(tp, fp, fn, tn):\n",
    "    return tp / (tp + fp)\n",
    "\n",
    "def recall(tp, fp, fn, tn):\n",
    "    return tp / (tp + fn)\n",
    "\n",
    "def f1_score(tp, fp, fn, tn):\n",
    "    p = precision(tp, fp, fn, tn)\n",
    "    r = recall(tp, fp, fn, tn)\n",
    "\n",
    "    return 2 * p * r / (p + r)\n",
    "\n",
    "if __name__ == \"__main__\":\n",
    "\n",
    "    print(\"accuracy(70, 4930, 13930, 981070)\", accuracy(70, 4930, 13930, 981070))\n",
    "    print(\"precision(70, 4930, 13930, 981070)\", precision(70, 4930, 13930, 981070))\n",
    "    print(\"recall(70, 4930, 13930, 981070)\", recall(70, 4930, 13930, 981070))\n",
    "    print(\"f1_score(70, 4930, 13930, 981070)\", f1_score(70, 4930, 13930, 981070))"
   ]
  },
  {
   "cell_type": "markdown",
   "metadata": {},
   "source": [
    "Aproximadamente 5 de cada 1,000 bebes son llamados Luke , Y la prevalencia que exista una condicion de leucemia es de 1.4% o 14 de cada 1000 neonatos"
   ]
  },
  {
   "cell_type": "markdown",
   "metadata": {},
   "source": [
    "|  | Leucemia |No Leucemia | Total |\n",
    "| ----------- | ----------- |----------- |----------- |\n",
    "| Paciente | 70 | 4930 | 5000 |\n",
    "| Otros Pacientes | 13930 | 981070 | 995000 |\n",
    "| Total | 14000 | 986000 | 1000000 |"
   ]
  },
  {
   "cell_type": "code",
   "execution_count": null,
   "metadata": {},
   "outputs": [
    {
     "name": "stdout",
     "output_type": "stream",
     "text": [
      "0.98114\n"
     ]
    }
   ],
   "source": [
    "#Fraccion de predicciones correctas\n",
    "print(accuracy(70,4930,13930,981070))"
   ]
  },
  {
   "cell_type": "markdown",
   "metadata": {},
   "source": [
    "La precision mide como de acertado es positiva nuestra prediccion"
   ]
  },
  {
   "cell_type": "code",
   "execution_count": null,
   "metadata": {},
   "outputs": [
    {
     "name": "stdout",
     "output_type": "stream",
     "text": [
      "0.014\n"
     ]
    }
   ],
   "source": [
    "print(precision(70,4930,13930,981070))"
   ]
  },
  {
   "cell_type": "markdown",
   "metadata": {},
   "source": [
    "Y recall mide cual fraccion de nuestros positivos es identificado por el modelo"
   ]
  },
  {
   "cell_type": "code",
   "execution_count": null,
   "metadata": {},
   "outputs": [
    {
     "name": "stdout",
     "output_type": "stream",
     "text": [
      "0.005\n"
     ]
    }
   ],
   "source": [
    "print(recall(70,4930,13930,981070))"
   ]
  },
  {
   "cell_type": "markdown",
   "metadata": {},
   "source": [
    "Estos son numeros terribles , reflejando que es un modelo terrible"
   ]
  },
  {
   "cell_type": "code",
   "execution_count": null,
   "metadata": {},
   "outputs": [
    {
     "data": {
      "text/plain": [
       "0.00736842105263158"
      ]
     },
     "execution_count": 147,
     "metadata": {},
     "output_type": "execute_result"
    }
   ],
   "source": [
    "f1_score(70,4930,13930,981070)"
   ]
  }
 ],
 "metadata": {
  "interpreter": {
   "hash": "12e7b2db913c7cced4d5bf71ce365c438f2053887e824f813caa9208ccef4b13"
  },
  "kernelspec": {
   "display_name": "Python 3.9.7 ('base')",
   "language": "python",
   "name": "python3"
  },
  "language_info": {
   "codemirror_mode": {
    "name": "ipython",
    "version": 3
   },
   "file_extension": ".py",
   "mimetype": "text/x-python",
   "name": "python",
   "nbconvert_exporter": "python",
   "pygments_lexer": "ipython3",
   "version": "3.9.7"
  },
  "orig_nbformat": 4
 },
 "nbformat": 4,
 "nbformat_minor": 2
}
